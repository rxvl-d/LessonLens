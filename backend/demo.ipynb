{
 "cells": [
  {
   "cell_type": "code",
   "execution_count": 1,
   "id": "4b28bf25-0525-45df-b9e7-2b4820ce22be",
   "metadata": {},
   "outputs": [],
   "source": [
    "from ll import classifiers"
   ]
  },
  {
   "cell_type": "code",
   "execution_count": 2,
   "id": "90bb72a2-c119-4a38-8960-b4a3ff497532",
   "metadata": {},
   "outputs": [],
   "source": [
    "# classifiers.fetch_content_based_gpt_metadata_inference('This is a worksheet on linear equations meant for 7/8th grade students for use in classrooms.')"
   ]
  },
  {
   "cell_type": "code",
   "execution_count": 3,
   "id": "2a49f46a-7c3f-4cce-ac34-658b3cd5a0e7",
   "metadata": {},
   "outputs": [],
   "source": [
    "terms = classifiers.classify_query_type('Arbeitsblatt Pythogoras')"
   ]
  },
  {
   "cell_type": "code",
   "execution_count": 4,
   "id": "23f2e8db-adfc-490b-aab9-a7a697dd2b2a",
   "metadata": {},
   "outputs": [
    {
     "data": {
      "text/plain": [
       "[('Arbeitsblatt', 'material_type'), ('Pythogoras', 'topic')]"
      ]
     },
     "execution_count": 4,
     "metadata": {},
     "output_type": "execute_result"
    }
   ],
   "source": [
    "terms"
   ]
  },
  {
   "cell_type": "code",
   "execution_count": 5,
   "id": "ad78969a-3f67-405c-8336-2983b15ec857",
   "metadata": {},
   "outputs": [],
   "source": [
    "rm = classifiers.RelevanceMatcher()\n",
    "qg = classifiers.QuestionGenerator()"
   ]
  },
  {
   "cell_type": "code",
   "execution_count": 6,
   "id": "f0b81b48-a57b-415e-a423-1bb897c7a1f2",
   "metadata": {},
   "outputs": [],
   "source": [
    "relevance_dimensions = rm.get_top_dimensions(terms)"
   ]
  },
  {
   "cell_type": "code",
   "execution_count": 7,
   "id": "48b72433-38ee-4f7f-8eed-254e943af0c6",
   "metadata": {},
   "outputs": [
    {
     "data": {
      "text/plain": [
       "[('Examples', 'Has real-world examples pertaining to the information need.'),\n",
       " ('Concepts', 'Contains keywords/terms from the information need.'),\n",
       " ('Learning Goals',\n",
       "  'Mentions the knowledge and skills a student is expected to acquire over the course of using it.'),\n",
       " ('Hands-on', 'Has hands-on activities pertaining to the information need.')]"
      ]
     },
     "execution_count": 7,
     "metadata": {},
     "output_type": "execute_result"
    }
   ],
   "source": [
    "relevance_dimensions"
   ]
  },
  {
   "cell_type": "code",
   "execution_count": 8,
   "id": "0e3cffa3-1ecf-4f4f-b1a6-ad6c28b51ed2",
   "metadata": {},
   "outputs": [],
   "source": [
    "questions = qg.generate_questions(terms, [d[0] for d in relevance_dimensions])"
   ]
  },
  {
   "cell_type": "code",
   "execution_count": 9,
   "id": "e4042b3f-8cc8-4e90-895e-fc6bc563218e",
   "metadata": {},
   "outputs": [
    {
     "data": {
      "text/plain": [
       "['What real-world examples or applications of Pythogoras are included?',\n",
       " 'What key concepts and terms related to Pythogoras are covered in the material?',\n",
       " 'What specific learning objectives or skills are students expected to master regarding Pythogoras?',\n",
       " 'What hands-on activities or interactive exercises about Pythogoras are provided?']"
      ]
     },
     "execution_count": 9,
     "metadata": {},
     "output_type": "execute_result"
    }
   ],
   "source": [
    "questions"
   ]
  },
  {
   "cell_type": "code",
   "execution_count": 10,
   "id": "86a9ff09-7e14-4eb9-ad61-9a8a8e64ad98",
   "metadata": {},
   "outputs": [],
   "source": [
    "from ll import cache"
   ]
  },
  {
   "cell_type": "code",
   "execution_count": 11,
   "id": "9760e526-b24d-487c-b64f-d6354003f8a3",
   "metadata": {},
   "outputs": [],
   "source": [
    "wpc = cache.WebPageCache()"
   ]
  },
  {
   "cell_type": "code",
   "execution_count": 12,
   "id": "9ac0e7ff-b144-405e-bb0b-38c839116bb9",
   "metadata": {},
   "outputs": [],
   "source": [
    "content = wpc.fetch('https://de.serlo.org/mathe/30678/aufgaben-zur-satzgruppe-des-pythagoras')['text']"
   ]
  },
  {
   "cell_type": "code",
   "execution_count": 13,
   "id": "0ba58bc6-44e8-4baa-ab0a-ae8def8ae59d",
   "metadata": {},
   "outputs": [
    {
     "data": {
      "text/plain": [
       "[{'question': 'Welche realen Beispiele oder Anwendungen des Pythagoras sind enthalten?',\n",
       "  'answer': 'Doppeltorbau, Straßenlaterne an Spannseil, Gartentor aus Vierkantprofil, Raumdiagonale im Würfel.'},\n",
       " {'question': 'Welche Schlüsselkonzepte und Begriffe im Zusammenhang mit Pythagoras werden in dem Material behandelt?',\n",
       "  'answer': 'Satz des Pythagoras, Diagonale, rechtwinkliges Dreieck, Kathetensatz, Hohensatz.'},\n",
       " {'question': 'Welche spezifischen Lernziele oder Fähigkeiten sollen die Schüler in Bezug auf Pythagoras beherrschen?',\n",
       "  'answer': 'Anwendung des Satzes des Pythagoras, Berechnung fehlender Seitenlängen, Bestimmung rechtwinkliger Dreiecke.'},\n",
       " {'question': 'Welche praktischen Aktivitäten oder interaktiven Übungen zu Pythagoras werden angeboten?',\n",
       "  'answer': 'Berechnung von Seitenlängen, Bestimmung der Raumdiagonale, Anwendung in der Physik, Konstruktion von Toren.'}]"
      ]
     },
     "execution_count": 13,
     "metadata": {},
     "output_type": "execute_result"
    }
   ],
   "source": [
    "classifiers.fetch_content_question_based_gpt_adaptive_snippet(\n",
    "    (content, questions))"
   ]
  },
  {
   "cell_type": "code",
   "execution_count": 14,
   "id": "c269dd12-139b-4cf1-97e6-3d551ac645a0",
   "metadata": {},
   "outputs": [
    {
     "data": {
      "text/plain": [
       "[{'question': 'Enthält der Inhalt reale Anwendungsbeispiele für den Satz des Pythagoras?',\n",
       "  'answer': 'Doppeltor, Straßenlaterne, Gartentor, Holzhäuschen'},\n",
       " {'question': 'Enthält der Inhalt Schlüsselbegriffe zum Satz des Pythagoras?',\n",
       "  'answer': 'Satz des Pythagoras, rechtwinkliges Dreieck, Diagonale, Raumdiagonale'},\n",
       " {'question': 'Welche Kenntnisse und Fähigkeiten sollen Schüler durch den Inhalt erwerben?',\n",
       "  'answer': 'Gleichungen aufstellen, Seitenlängen berechnen, reale Anwendungen verstehen'}]"
      ]
     },
     "execution_count": 14,
     "metadata": {},
     "output_type": "execute_result"
    }
   ],
   "source": [
    "classifiers.fetch_content_relevance_dimension_based_gpt_adaptive_snippet(\n",
    "    (content, [d[1] for d in relevance_dimensions]))"
   ]
  },
  {
   "cell_type": "code",
   "execution_count": null,
   "id": "5ce89b09-ea02-43d0-9476-6f82c9273acb",
   "metadata": {},
   "outputs": [],
   "source": [
    "classifiers.fetch_content_queries_based_gpt_adaptive_snippet(\n",
    "    (content, ['Arbeitsblatt Pythogoras', 'Arbeitsblatt Pythogoras Sek. I', 'Arbeitsblatt Pythogoras Architektur Sek. I']))"
   ]
  },
  {
   "cell_type": "code",
   "execution_count": 2,
   "id": "7caabd32-867d-436d-9fa0-5400a4a6b3dd",
   "metadata": {},
   "outputs": [
    {
     "ename": "NameError",
     "evalue": "name 'cache' is not defined",
     "output_type": "error",
     "traceback": [
      "\u001b[0;31m---------------------------------------------------------------------------\u001b[0m",
      "\u001b[0;31mNameError\u001b[0m                                 Traceback (most recent call last)",
      "Cell \u001b[0;32mIn[2], line 1\u001b[0m\n\u001b[0;32m----> 1\u001b[0m \u001b[43mcache\u001b[49m\u001b[38;5;241m.\u001b[39mWebPageCache()\n",
      "\u001b[0;31mNameError\u001b[0m: name 'cache' is not defined"
     ]
    }
   ],
   "source": [
    "cache.WebPageCache()"
   ]
  },
  {
   "cell_type": "code",
   "execution_count": null,
   "id": "02e9c039-0365-4ee1-8c9a-0c489eacef44",
   "metadata": {},
   "outputs": [],
   "source": []
  }
 ],
 "metadata": {
  "kernelspec": {
   "display_name": "Python 3 (ipykernel)",
   "language": "python",
   "name": "python3"
  },
  "language_info": {
   "codemirror_mode": {
    "name": "ipython",
    "version": 3
   },
   "file_extension": ".py",
   "mimetype": "text/x-python",
   "name": "python",
   "nbconvert_exporter": "python",
   "pygments_lexer": "ipython3",
   "version": "3.9.20"
  }
 },
 "nbformat": 4,
 "nbformat_minor": 5
}
