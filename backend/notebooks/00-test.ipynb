{
 "cells": [
  {
   "cell_type": "code",
   "execution_count": 1,
   "id": "f202d082-aacf-4048-bd82-db829ea8a45b",
   "metadata": {},
   "outputs": [
    {
     "name": "stdout",
     "output_type": "stream",
     "text": [
      "024670c0d22189c941f103af61b771ef 849b79056f06f7ad9e1e2c789b35262e\n",
      "0e0859ea358c4fa1e0bee97319a9641e 89194a48e81c4f2da1a64aaf2fcfe0f5\n",
      "10e5952d95a73433c3383ad80a209e19 a22d02828d942559f0227a918b60483b\n",
      "1121875827180b64fd0e8d74595c5b08 a5dffef7d4c8b0b61cb6e5afb241d32e\n",
      "171efb383978a469f454f89f210fc4e7 a8114d149e352cbe2e5f93ec4134d82f\n",
      "26512596c7938e6f3c5d416148a761d2 b5ad657f8abd77bc1bab673d79415403\n",
      "2773e81e0d43041878887a7b06792bf2 b970ec36c94011eeb9a156bb0ea6e0c9\n",
      "325980537ac4b71be0d096bd66ee2984 c2caa6e8e0c138a742b00ebfa8cbb0d7\n",
      "33bc7752759d59114f5fbaf4c7af0179 c8f6c19957dbbc5c4b799dfca231f7e9\n",
      "383236338dcb9f1ce9c53723f6f0daa5 d0072c2f794d617462df48aec789c812\n",
      "44f485cdd73095f9ee8ac7295fd638e7 d786d438733260bcd004a5801bfc8ac0\n",
      "5361beb16381de2ef2933b43d036accb e697d7c253ccaba351f0c4fdef03be96\n",
      "5e80169b15fe99e6b66514937b380652 f2c88bf91e9ddd93961dbba4e9e0cb96\n",
      "6da3a437b2d4ed75c78eebdc405137e8 fa1192d0b4eacc881098ddd634c40a0b\n",
      "74f964f23107e286dfccbfc2956f0a24 fd0828ca1c8ed3cb0bd842db385cebf7\n",
      "792fab19c6f7550b8d39807caa66d5f4 fdf840d157c6e04d97577c3597dfdf1c\n"
     ]
    }
   ],
   "source": [
    "!ls ~/.cache/LessonLens/educational_level"
   ]
  },
  {
   "cell_type": "code",
   "execution_count": 2,
   "id": "75057b9d-cfbf-4423-8384-d0eafcf96677",
   "metadata": {},
   "outputs": [
    {
     "name": "stderr",
     "output_type": "stream",
     "text": [
      "[nltk_data] Downloading package stopwords to\n",
      "[nltk_data]     /Users/rsebastian/nltk_data...\n",
      "[nltk_data]   Package stopwords is already up-to-date!\n"
     ]
    }
   ],
   "source": [
    "import sys\n",
    "sys.path.append('..')\n",
    "from ll.claude import EducationalLevel, ResourceType, Subject"
   ]
  },
  {
   "cell_type": "code",
   "execution_count": 3,
   "id": "85c36601-faf0-459e-abfe-43dfd526aba3",
   "metadata": {},
   "outputs": [],
   "source": [
    "el = EducationalLevel()\n",
    "rt = ResourceType()\n",
    "sub = Subject()"
   ]
  },
  {
   "cell_type": "code",
   "execution_count": 4,
   "id": "8a7b3402-7952-41fa-9d50-67b05f830f13",
   "metadata": {},
   "outputs": [
    {
     "data": {
      "text/plain": [
       "[{'url': 'https://www.dw-aufgaben.de/ac/static/Q4517.html',\n",
       "  'response': [6, 7],\n",
       "  'content_type': 'snippet'}]"
      ]
     },
     "execution_count": 4,
     "metadata": {},
     "output_type": "execute_result"
    }
   ],
   "source": [
    "el.classify([\n",
    "    {\n",
    "        \"url\": \"https://www.dw-aufgaben.de/ac/static/Q4517.html\", \n",
    "        \"content_type\": \"snippet\", \n",
    "        \"content\": \"\"\"Dreiecksfläche bestimmen durch Messen von ...\n",
    "dw-Aufgaben\n",
    "https://www.dw-aufgaben.de › static\n",
    "übungen dreieck bilder messen von www.dw-aufgaben.de\n",
    "Ein Dreieck ist vorgegeben. Eine beliebige Höhe ist einzuzeichnen und dann durch Messen einer Seite und der dazugehörigen Höhe die Fläche zu berechnen.\"\"\"}])"
   ]
  },
  {
   "cell_type": "code",
   "execution_count": 5,
   "id": "da26bdbc-29bd-44ee-af55-05e74055d07c",
   "metadata": {},
   "outputs": [
    {
     "data": {
      "text/plain": [
       "[{'url': 'https://www.dw-aufgaben.de/ac/static/Q4517.html',\n",
       "  'response': ['practice_problems', 'worksheet'],\n",
       "  'content_type': 'snippet'}]"
      ]
     },
     "execution_count": 5,
     "metadata": {},
     "output_type": "execute_result"
    }
   ],
   "source": [
    "rt.classify([\n",
    "    {\n",
    "        \"url\": \"https://www.dw-aufgaben.de/ac/static/Q4517.html\", \n",
    "        \"content_type\": \"snippet\", \n",
    "        \"content\": \"\"\"Dreiecksfläche bestimmen durch Messen von ...\n",
    "dw-Aufgaben\n",
    "https://www.dw-aufgaben.de › static\n",
    "übungen dreieck bilder messen von www.dw-aufgaben.de\n",
    "Ein Dreieck ist vorgegeben. Eine beliebige Höhe ist einzuzeichnen und dann durch Messen einer Seite und der dazugehörigen Höhe die Fläche zu berechnen.\"\"\"}])"
   ]
  },
  {
   "cell_type": "code",
   "execution_count": 6,
   "id": "927657b8-7007-4ecc-a59b-8447b5db5723",
   "metadata": {},
   "outputs": [
    {
     "data": {
      "text/plain": [
       "[{'url': 'https://www.dw-aufgaben.de/ac/static/Q4517.html',\n",
       "  'response': ['Mathematics'],\n",
       "  'content_type': 'snippet'}]"
      ]
     },
     "execution_count": 6,
     "metadata": {},
     "output_type": "execute_result"
    }
   ],
   "source": [
    "sub.classify([\n",
    "    {\n",
    "        \"url\": \"https://www.dw-aufgaben.de/ac/static/Q4517.html\", \n",
    "        \"content_type\": \"snippet\", \n",
    "        \"content\": \"\"\"Dreiecksfläche bestimmen durch Messen von ...\n",
    "dw-Aufgaben\n",
    "https://www.dw-aufgaben.de › static\n",
    "übungen dreieck bilder messen von www.dw-aufgaben.de\n",
    "Ein Dreieck ist vorgegeben. Eine beliebige Höhe ist einzuzeichnen und dann durch Messen einer Seite und der dazugehörigen Höhe die Fläche zu berechnen.\"\"\"}])"
   ]
  },
  {
   "cell_type": "code",
   "execution_count": 7,
   "id": "cad7b7d7-3bfc-48d3-af09-bc3a159f558c",
   "metadata": {},
   "outputs": [],
   "source": [
    "from ll.summary import Summarizer"
   ]
  },
  {
   "cell_type": "code",
   "execution_count": 8,
   "id": "68abb9d9-0f06-4c40-926f-4ee17d7b4361",
   "metadata": {},
   "outputs": [
    {
     "name": "stderr",
     "output_type": "stream",
     "text": [
      "[nltk_data] Downloading package stopwords to\n",
      "[nltk_data]     /Users/rsebastian/nltk_data...\n",
      "[nltk_data]   Package stopwords is already up-to-date!\n"
     ]
    }
   ],
   "source": [
    "s = Summarizer(el, rt)"
   ]
  },
  {
   "cell_type": "code",
   "execution_count": 9,
   "id": "b44e565f-e45d-49e8-8e0d-94273854629b",
   "metadata": {},
   "outputs": [
    {
     "name": "stderr",
     "output_type": "stream",
     "text": [
      "/Users/rsebastian/miniforge3/envs/llama/lib/python3.9/site-packages/sklearn/feature_extraction/text.py:406: UserWarning: Your stop_words may be inconsistent with your preprocessing. Tokenizing the stop words generated tokens ['fur', 'konnen', 'konnte', 'uber', 'wahrend', 'wurde', 'wurden'] not in stop_words.\n",
      "  warnings.warn(\n"
     ]
    },
    {
     "data": {
      "text/plain": [
       "{'topics': {'vorgegeben,seite,flache': np.float64(0.0),\n",
       "  'messen,hohe,vorgegeben': np.float64(100.0)},\n",
       " 'educational_levels': {6: 100.0, 7: 100.0},\n",
       " 'resource_types': {'practice_problems': 100.0, 'worksheet': 100.0}}"
      ]
     },
     "execution_count": 9,
     "metadata": {},
     "output_type": "execute_result"
    }
   ],
   "source": [
    "s.summarize({'results': [\n",
    "{\n",
    "        \"url\": \"https://www.dw-aufgaben.de/ac/static/Q4517.html\", \n",
    "        \"title\": \"Dreiecksfläche bestimmen durch Messen von ...\", \n",
    "        \"description\": \"\"\"Ein Dreieck ist vorgegeben. Eine beliebige Höhe ist einzuzeichnen und dann durch Messen einer Seite und der dazugehörigen Höhe die Fläche zu berechnen.\"\"\"    \n",
    "}]})"
   ]
  },
  {
   "cell_type": "code",
   "execution_count": 10,
   "id": "c4c2ae29-9cd1-43ff-b9e2-7329013c8178",
   "metadata": {},
   "outputs": [],
   "source": [
    "from ll.claude import Snippets"
   ]
  },
  {
   "cell_type": "code",
   "execution_count": 11,
   "id": "3b933f3b-b012-4d13-a45f-fb46cdbfe53f",
   "metadata": {},
   "outputs": [],
   "source": [
    "snippets = Snippets()"
   ]
  },
  {
   "cell_type": "code",
   "execution_count": 12,
   "id": "dfe85b73-b7bb-4436-b835-298ca6ba954f",
   "metadata": {},
   "outputs": [
    {
     "data": {
      "text/plain": [
       "[{'url': 'https://www.dw-aufgaben.de/ac/static/Q4517.html',\n",
       "  'response': 'Ein Dreieck ist vorgegeben. Eine beliebige Höhe ist einzuzeichnen und dann durch Messen einer Seite und der dazugehörigen Höhe die Fläche zu berechnen.',\n",
       "  'content_type': 'text'}]"
      ]
     },
     "execution_count": 12,
     "metadata": {},
     "output_type": "execute_result"
    }
   ],
   "source": [
    "snippets.enhance([{\n",
    "        \"url\": \"https://www.dw-aufgaben.de/ac/static/Q4517.html\", \n",
    "        \"content_type\": \"text\", \n",
    "        \"content\": \"\"\"\n",
    "Mathematik-Arbeitsblätter\n",
    "Individuelle Arbeitsblätter auf Knopfdruck\n",
    "dw-Aufgaben Logo\n",
    "\n",
    "    Hauptseite\n",
    "    Aufgaben\n",
    "    Klassen\n",
    "    Themenbereiche\n",
    "    Stichwörter\n",
    "    Vorlagen\n",
    "    Top Ten\n",
    "    Individuelles Arbeitsblatt erstellen\n",
    "\n",
    "Details zur Aufgabe \"Dreiecksfläche bestimmen durch Messen von Seite u. Höhe\"\n",
    "\n",
    "Quickname: 4517\n",
    "\n",
    "Geeignet für Klassenstufen: Klasse 7 Klasse 8\n",
    "\n",
    "Material für den Unterricht an der Realschule, Material für den Unterricht an der Gemeinschaftsschule.\n",
    "Zusammenfassung\n",
    "\n",
    "Die Fläche eines vorgegebenen Dreiecks ist durch Nachmessen von Seite und Höhe zu berechnen.\n",
    "Beispiel\n",
    "Die Fläche eines vorgegebenen Dreiecks ist durch Nachmessen von Seite und Höhe zu berechnen. (Beispiel für die Aufgabenstellung)\n",
    "Beschreibung\n",
    "\n",
    "Ein Dreieck ist vorgegeben. Eine beliebige Höhe ist einzuzeichnen und dann durch Messen einer Seite und der dazugehörigen Höhe die Fläche zu berechnen.\n",
    "\n",
    "Themenbereich: Flächen,Körper Geometrie\n",
    "\n",
    "Stichwörter: Dreieck Flächen Messen Zeichnerisch\n",
    "Kostenlose Arbeitsblätter zum Download\n",
    "\n",
    "Laden Sie sich hier kostenlos Arbeitsblätter zu dieser Aufgabe herunter. Zu jedem Arbeitsblatt gibt es ein entsprechendes Lösungsblatt. Klicken Sie einfach auf die entsprechenden Links.\n",
    "\n",
    "    Bild eines Arbeitsblattes Arbeitsblatt 1 \n",
    "    Bild eines Arbeitsblattes Arbeitsblatt 2 \n",
    "    Bild eines Arbeitsblattes Arbeitsblatt 3  \n",
    "\n",
    "Wenn Sie die Lösungsblätter nicht sehen können, dann werden diese evtl. von einem Werbeblocker ausgeblendet. Wenn Sie einen Werbeblocker haben, schalten Sie ihn bitte aus, um die Lösungsblätter herunterzuladen.\n",
    "\n",
    "Diese Arbeitsblätter enthalten Aufgaben, die in der korrekten Größe ausgegeben werden müssen.\n",
    "Bitte achten Sie darauf, beim Ausdruck jegliche Skalierung, Vergrößerung, Verkleinerung und Seitenanpassung auszuschalten.\n",
    "\n",
    "    Sind die Zahlen zu groß oder zu klein?\n",
    "    Brauchen Sie noch weitere Arbeitsblätter, eventuell mit anderem Schwierigkeitsgrad?\n",
    "    Möchten Sie verschiedene Aufgaben auf einem Arbeitsblatt kombinieren?\n",
    "    Stellen Sie sich als Lehrer direkt Ihre Lernerfolgskontrolle für den Mathematikunterricht zusammen!\n",
    "\n",
    "Erzeugen Sie mit Ihrem kostenlosen Startguthaben sofort eigene Arbeitsblätter.\n",
    "\n",
    "Probieren kostet nichts! Melden Sie sich jetzt hier an, um Aufgaben mit Ihren Einstellungen zu erzeugen!\n",
    "Einstellmöglichkeiten für diese Aufgabe\n",
    "Einstellung\n",
    "Mögliche Werte\n",
    "Anzahl der Aufgaben\n",
    "1, 2\n",
    "\n",
    "Arbeitsblätter mit dieser Aufgabe enthalten häufig auch folgende Aufgaben:\n",
    "Relevanz\n",
    "Name\n",
    "Kurzbeschreibung\n",
    "Quickname\n",
    "Beispiel\n",
    "****\n",
    "Dreieck Mittelsenkr Winkel-, Seitenhalbierende Höhe\n",
    "In ein Dreieck sind Höhen, Mittelsenkrechte, Winkelhalbierende oder Seitenhalbierende einzuzeichnen.\n",
    "4571\n",
    "Dreieck Mittelsenkr Winkel-, Seitenhalbierende Höhe\n",
    "**\n",
    "\"\"\",\n",
    "\"facet\": \"You are a 7th grade mathematics teacher at a Realschule in Niedersachsen. Your class of 22 students has just completed learning about angle relationships in triangles and basic triangle constructions. You are planning a lesson that connects these concepts with the Pythagorean theorem.Find teaching materials that help students understand the relationship between right triangles, their construction, and the Pythagorean theorem. You need resources that show both the geometric and algebraic representations of the theorem.\"}],\n",
    "                 \"You are a 7th grade mathematics teacher at a Realschule in Niedersachsen. Your class of 22 students has just completed learning about angle relationships in triangles and basic triangle constructions. You are planning a lesson that connects these concepts with the Pythagorean theorem.Find teaching materials that help students understand the relationship between right triangles, their construction, and the Pythagorean theorem. You need resources that show both the geometric and algebraic representations of the theorem.\")"
   ]
  },
  {
   "cell_type": "code",
   "execution_count": 13,
   "id": "50301c39-68fc-4193-8fe6-55c20aa021a0",
   "metadata": {},
   "outputs": [
    {
     "name": "stdout",
     "output_type": "stream",
     "text": [
      "/Users/rsebastian/.cache/LessonLens/enhanced_snippets/57ff6b69e3684670ae45a8f1722844a4\n"
     ]
    }
   ],
   "source": [
    "!ls /Users/rsebastian/.cache/LessonLens/enhanced_snippets/*"
   ]
  },
  {
   "cell_type": "code",
   "execution_count": null,
   "id": "988d7430-1458-43d2-898a-8176f6e519d0",
   "metadata": {},
   "outputs": [],
   "source": []
  },
  {
   "cell_type": "code",
   "execution_count": null,
   "id": "9f045031-fd61-4e5b-87fd-5a0789bb317e",
   "metadata": {},
   "outputs": [],
   "source": []
  }
 ],
 "metadata": {
  "kernelspec": {
   "display_name": "Python 3 (ipykernel)",
   "language": "python",
   "name": "python3"
  },
  "language_info": {
   "codemirror_mode": {
    "name": "ipython",
    "version": 3
   },
   "file_extension": ".py",
   "mimetype": "text/x-python",
   "name": "python",
   "nbconvert_exporter": "python",
   "pygments_lexer": "ipython3",
   "version": "3.9.16"
  }
 },
 "nbformat": 4,
 "nbformat_minor": 5
}
