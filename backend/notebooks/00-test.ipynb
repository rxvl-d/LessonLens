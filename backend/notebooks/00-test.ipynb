{
 "cells": [
  {
   "cell_type": "code",
   "execution_count": 1,
   "id": "f202d082-aacf-4048-bd82-db829ea8a45b",
   "metadata": {},
   "outputs": [
    {
     "name": "stdout",
     "output_type": "stream",
     "text": [
      "10e5952d95a73433c3383ad80a209e19\n"
     ]
    }
   ],
   "source": [
    "!ls ~/.cache/LessonLens/educational_level"
   ]
  },
  {
   "cell_type": "code",
   "execution_count": 2,
   "id": "75057b9d-cfbf-4423-8384-d0eafcf96677",
   "metadata": {},
   "outputs": [
    {
     "name": "stderr",
     "output_type": "stream",
     "text": [
      "[nltk_data] Downloading package stopwords to\n",
      "[nltk_data]     /Users/rsebastian/nltk_data...\n",
      "[nltk_data]   Package stopwords is already up-to-date!\n"
     ]
    }
   ],
   "source": [
    "import sys\n",
    "sys.path.append('..')\n",
    "from ll.claude import EducationalLevel, ResourceType, Subject"
   ]
  },
  {
   "cell_type": "code",
   "execution_count": 3,
   "id": "85c36601-faf0-459e-abfe-43dfd526aba3",
   "metadata": {},
   "outputs": [],
   "source": [
    "el = EducationalLevel()\n",
    "rt = ResourceType()\n",
    "sub = Subject()"
   ]
  },
  {
   "cell_type": "code",
   "execution_count": 4,
   "id": "8a7b3402-7952-41fa-9d50-67b05f830f13",
   "metadata": {},
   "outputs": [
    {
     "name": "stderr",
     "output_type": "stream",
     "text": [
      "INFO:ll.cache:Cache hit for https://www.dw-aufgaben.de/ac/static/Q4517.html snippet\n"
     ]
    },
    {
     "data": {
      "text/plain": [
       "[{'url': 'https://www.dw-aufgaben.de/ac/static/Q4517.html',\n",
       "  'response': [6, 7],\n",
       "  'content_type': 'snippet'}]"
      ]
     },
     "execution_count": 4,
     "metadata": {},
     "output_type": "execute_result"
    }
   ],
   "source": [
    "el.classify([\n",
    "    {\n",
    "        \"url\": \"https://www.dw-aufgaben.de/ac/static/Q4517.html\", \n",
    "        \"content_type\": \"snippet\", \n",
    "        \"content\": \"\"\"Dreiecksfläche bestimmen durch Messen von ...\n",
    "dw-Aufgaben\n",
    "https://www.dw-aufgaben.de › static\n",
    "übungen dreieck bilder messen von www.dw-aufgaben.de\n",
    "Ein Dreieck ist vorgegeben. Eine beliebige Höhe ist einzuzeichnen und dann durch Messen einer Seite und der dazugehörigen Höhe die Fläche zu berechnen.\"\"\"}])"
   ]
  },
  {
   "cell_type": "code",
   "execution_count": 5,
   "id": "da26bdbc-29bd-44ee-af55-05e74055d07c",
   "metadata": {},
   "outputs": [
    {
     "name": "stderr",
     "output_type": "stream",
     "text": [
      "INFO:ll.cache:Cache hit for https://www.dw-aufgaben.de/ac/static/Q4517.html snippet\n"
     ]
    },
    {
     "data": {
      "text/plain": [
       "[{'url': 'https://www.dw-aufgaben.de/ac/static/Q4517.html',\n",
       "  'response': ['practice_problems', 'worksheet'],\n",
       "  'content_type': 'snippet'}]"
      ]
     },
     "execution_count": 5,
     "metadata": {},
     "output_type": "execute_result"
    }
   ],
   "source": [
    "rt.classify([\n",
    "    {\n",
    "        \"url\": \"https://www.dw-aufgaben.de/ac/static/Q4517.html\", \n",
    "        \"content_type\": \"snippet\", \n",
    "        \"content\": \"\"\"Dreiecksfläche bestimmen durch Messen von ...\n",
    "dw-Aufgaben\n",
    "https://www.dw-aufgaben.de › static\n",
    "übungen dreieck bilder messen von www.dw-aufgaben.de\n",
    "Ein Dreieck ist vorgegeben. Eine beliebige Höhe ist einzuzeichnen und dann durch Messen einer Seite und der dazugehörigen Höhe die Fläche zu berechnen.\"\"\"}])"
   ]
  },
  {
   "cell_type": "code",
   "execution_count": 6,
   "id": "927657b8-7007-4ecc-a59b-8447b5db5723",
   "metadata": {},
   "outputs": [
    {
     "name": "stderr",
     "output_type": "stream",
     "text": [
      "INFO:ll.cache:Cache hit for https://www.dw-aufgaben.de/ac/static/Q4517.html snippet\n"
     ]
    },
    {
     "data": {
      "text/plain": [
       "[{'url': 'https://www.dw-aufgaben.de/ac/static/Q4517.html',\n",
       "  'response': ['Mathematics'],\n",
       "  'content_type': 'snippet'}]"
      ]
     },
     "execution_count": 6,
     "metadata": {},
     "output_type": "execute_result"
    }
   ],
   "source": [
    "sub.classify([\n",
    "    {\n",
    "        \"url\": \"https://www.dw-aufgaben.de/ac/static/Q4517.html\", \n",
    "        \"content_type\": \"snippet\", \n",
    "        \"content\": \"\"\"Dreiecksfläche bestimmen durch Messen von ...\n",
    "dw-Aufgaben\n",
    "https://www.dw-aufgaben.de › static\n",
    "übungen dreieck bilder messen von www.dw-aufgaben.de\n",
    "Ein Dreieck ist vorgegeben. Eine beliebige Höhe ist einzuzeichnen und dann durch Messen einer Seite und der dazugehörigen Höhe die Fläche zu berechnen.\"\"\"}])"
   ]
  },
  {
   "cell_type": "code",
   "execution_count": 7,
   "id": "cad7b7d7-3bfc-48d3-af09-bc3a159f558c",
   "metadata": {},
   "outputs": [],
   "source": [
    "from ll.summary import Summarizer"
   ]
  },
  {
   "cell_type": "code",
   "execution_count": 8,
   "id": "68abb9d9-0f06-4c40-926f-4ee17d7b4361",
   "metadata": {},
   "outputs": [
    {
     "name": "stderr",
     "output_type": "stream",
     "text": [
      "[nltk_data] Downloading package stopwords to\n",
      "[nltk_data]     /Users/rsebastian/nltk_data...\n",
      "[nltk_data]   Package stopwords is already up-to-date!\n"
     ]
    }
   ],
   "source": [
    "s = Summarizer(el, rt)"
   ]
  },
  {
   "cell_type": "code",
   "execution_count": 9,
   "id": "b44e565f-e45d-49e8-8e0d-94273854629b",
   "metadata": {},
   "outputs": [
    {
     "name": "stderr",
     "output_type": "stream",
     "text": [
      "/Users/rsebastian/miniforge3/envs/llama/lib/python3.9/site-packages/sklearn/feature_extraction/text.py:406: UserWarning: Your stop_words may be inconsistent with your preprocessing. Tokenizing the stop words generated tokens ['fur', 'konnen', 'konnte', 'uber', 'wahrend', 'wurde', 'wurden'] not in stop_words.\n",
      "  warnings.warn(\n",
      "INFO:ll.cache:Cache hit for https://www.dw-aufgaben.de/ac/static/Q4517.html snippet\n",
      "INFO:ll.cache:Cache hit for https://www.dw-aufgaben.de/ac/static/Q4517.html snippet\n"
     ]
    },
    {
     "name": "stdout",
     "output_type": "stream",
     "text": [
      "[{'url': 'https://www.dw-aufgaben.de/ac/static/Q4517.html', 'response': [6, 7], 'content_type': 'snippet'}]\n",
      "[{'url': 'https://www.dw-aufgaben.de/ac/static/Q4517.html', 'response': ['practice_problems', 'worksheet'], 'content_type': 'snippet'}]\n"
     ]
    },
    {
     "data": {
      "text/plain": [
       "{'topics': {'vorgegeben,seite,flache': np.float64(0.0),\n",
       "  'messen,hohe,vorgegeben': np.float64(100.0)},\n",
       " 'educational_levels': {6: 100.0, 7: 100.0},\n",
       " 'resource_types': {'practice_problems': 100.0, 'worksheet': 100.0}}"
      ]
     },
     "execution_count": 9,
     "metadata": {},
     "output_type": "execute_result"
    }
   ],
   "source": [
    "s.summarize({'results': [\n",
    "{\n",
    "        \"url\": \"https://www.dw-aufgaben.de/ac/static/Q4517.html\", \n",
    "        \"title\": \"Dreiecksfläche bestimmen durch Messen von ...\", \n",
    "        \"description\": \"\"\"Ein Dreieck ist vorgegeben. Eine beliebige Höhe ist einzuzeichnen und dann durch Messen einer Seite und der dazugehörigen Höhe die Fläche zu berechnen.\"\"\"    \n",
    "}]})"
   ]
  },
  {
   "cell_type": "code",
   "execution_count": null,
   "id": "c4c2ae29-9cd1-43ff-b9e2-7329013c8178",
   "metadata": {},
   "outputs": [],
   "source": []
  },
  {
   "cell_type": "code",
   "execution_count": null,
   "id": "3b933f3b-b012-4d13-a45f-fb46cdbfe53f",
   "metadata": {},
   "outputs": [],
   "source": []
  },
  {
   "cell_type": "code",
   "execution_count": null,
   "id": "dfe85b73-b7bb-4436-b835-298ca6ba954f",
   "metadata": {},
   "outputs": [],
   "source": []
  }
 ],
 "metadata": {
  "kernelspec": {
   "display_name": "Python 3 (ipykernel)",
   "language": "python",
   "name": "python3"
  },
  "language_info": {
   "codemirror_mode": {
    "name": "ipython",
    "version": 3
   },
   "file_extension": ".py",
   "mimetype": "text/x-python",
   "name": "python",
   "nbconvert_exporter": "python",
   "pygments_lexer": "ipython3",
   "version": "3.9.16"
  }
 },
 "nbformat": 4,
 "nbformat_minor": 5
}
